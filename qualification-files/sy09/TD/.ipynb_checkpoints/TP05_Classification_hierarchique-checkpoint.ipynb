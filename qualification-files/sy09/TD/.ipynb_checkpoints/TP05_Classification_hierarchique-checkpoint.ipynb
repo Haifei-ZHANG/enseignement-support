{
 "cells": [
  {
   "cell_type": "code",
   "execution_count": 2,
   "metadata": {},
   "outputs": [],
   "source": [
    "from TP05_Classification_hierarchique.src.utils import *\n",
    "from TP05_Classification_hierarchique.src.inertia import *\n",
    "import pandas as pd\n",
    "import numpy as np\n",
    "import seaborn as sns\n",
    "import matplotlib.pyplot as plt\n",
    "from sklearn.manifold import MDS\n",
    "from sklearn.cluster import AgglomerativeClustering"
   ]
  },
  {
   "cell_type": "markdown",
   "metadata": {},
   "source": [
    "# Travaux pratiques\n",
    "## Visualisation des données Mutations"
   ]
  },
  {
   "cell_type": "code",
   "execution_count": 3,
   "metadata": {},
   "outputs": [
    {
     "data": {
      "text/plain": [
       "(20, 20)"
      ]
     },
     "execution_count": 3,
     "metadata": {},
     "output_type": "execute_result"
    }
   ],
   "source": [
    "# Q1\n",
    "mut = pd.read_csv(\"TP05_Classification_hierarchique/data/mutations2.csv\", index_col=0)\n",
    "mut.shape"
   ]
  },
  {
   "cell_type": "code",
   "execution_count": 4,
   "metadata": {},
   "outputs": [
    {
     "data": {
      "text/html": [
       "<div>\n",
       "<style scoped>\n",
       "    .dataframe tbody tr th:only-of-type {\n",
       "        vertical-align: middle;\n",
       "    }\n",
       "\n",
       "    .dataframe tbody tr th {\n",
       "        vertical-align: top;\n",
       "    }\n",
       "\n",
       "    .dataframe thead th {\n",
       "        text-align: right;\n",
       "    }\n",
       "</style>\n",
       "<table border=\"1\" class=\"dataframe\">\n",
       "  <thead>\n",
       "    <tr style=\"text-align: right;\">\n",
       "      <th></th>\n",
       "      <th>Man</th>\n",
       "      <th>Monkey</th>\n",
       "      <th>Dog</th>\n",
       "      <th>Horse</th>\n",
       "      <th>Donkey</th>\n",
       "      <th>Pig</th>\n",
       "      <th>Rabbit</th>\n",
       "      <th>Kangaroo</th>\n",
       "      <th>Pekin Duck</th>\n",
       "      <th>Pigeon</th>\n",
       "      <th>Chicken</th>\n",
       "      <th>King Penguin</th>\n",
       "      <th>Snapping Turtle</th>\n",
       "      <th>Rattlesnake</th>\n",
       "      <th>Tuna</th>\n",
       "      <th>Screwworm Fly</th>\n",
       "      <th>Moth</th>\n",
       "      <th>Bakers Mould</th>\n",
       "      <th>Bread Yeast</th>\n",
       "      <th>Skin Fungus</th>\n",
       "    </tr>\n",
       "  </thead>\n",
       "  <tbody>\n",
       "    <tr>\n",
       "      <th>Man</th>\n",
       "      <td>0</td>\n",
       "      <td>1</td>\n",
       "      <td>13</td>\n",
       "      <td>17</td>\n",
       "      <td>16</td>\n",
       "      <td>13</td>\n",
       "      <td>12</td>\n",
       "      <td>12</td>\n",
       "      <td>17</td>\n",
       "      <td>16</td>\n",
       "      <td>18</td>\n",
       "      <td>18</td>\n",
       "      <td>19</td>\n",
       "      <td>20</td>\n",
       "      <td>31</td>\n",
       "      <td>33</td>\n",
       "      <td>36</td>\n",
       "      <td>63</td>\n",
       "      <td>56</td>\n",
       "      <td>66</td>\n",
       "    </tr>\n",
       "    <tr>\n",
       "      <th>Monkey</th>\n",
       "      <td>1</td>\n",
       "      <td>0</td>\n",
       "      <td>12</td>\n",
       "      <td>16</td>\n",
       "      <td>15</td>\n",
       "      <td>12</td>\n",
       "      <td>11</td>\n",
       "      <td>13</td>\n",
       "      <td>16</td>\n",
       "      <td>15</td>\n",
       "      <td>17</td>\n",
       "      <td>17</td>\n",
       "      <td>18</td>\n",
       "      <td>21</td>\n",
       "      <td>32</td>\n",
       "      <td>32</td>\n",
       "      <td>35</td>\n",
       "      <td>62</td>\n",
       "      <td>57</td>\n",
       "      <td>65</td>\n",
       "    </tr>\n",
       "    <tr>\n",
       "      <th>Dog</th>\n",
       "      <td>13</td>\n",
       "      <td>12</td>\n",
       "      <td>0</td>\n",
       "      <td>10</td>\n",
       "      <td>8</td>\n",
       "      <td>4</td>\n",
       "      <td>6</td>\n",
       "      <td>7</td>\n",
       "      <td>12</td>\n",
       "      <td>12</td>\n",
       "      <td>14</td>\n",
       "      <td>14</td>\n",
       "      <td>13</td>\n",
       "      <td>30</td>\n",
       "      <td>29</td>\n",
       "      <td>24</td>\n",
       "      <td>28</td>\n",
       "      <td>64</td>\n",
       "      <td>61</td>\n",
       "      <td>66</td>\n",
       "    </tr>\n",
       "    <tr>\n",
       "      <th>Horse</th>\n",
       "      <td>17</td>\n",
       "      <td>16</td>\n",
       "      <td>10</td>\n",
       "      <td>0</td>\n",
       "      <td>1</td>\n",
       "      <td>5</td>\n",
       "      <td>11</td>\n",
       "      <td>11</td>\n",
       "      <td>16</td>\n",
       "      <td>16</td>\n",
       "      <td>16</td>\n",
       "      <td>17</td>\n",
       "      <td>16</td>\n",
       "      <td>32</td>\n",
       "      <td>27</td>\n",
       "      <td>24</td>\n",
       "      <td>33</td>\n",
       "      <td>64</td>\n",
       "      <td>60</td>\n",
       "      <td>68</td>\n",
       "    </tr>\n",
       "    <tr>\n",
       "      <th>Donkey</th>\n",
       "      <td>16</td>\n",
       "      <td>15</td>\n",
       "      <td>8</td>\n",
       "      <td>1</td>\n",
       "      <td>0</td>\n",
       "      <td>4</td>\n",
       "      <td>10</td>\n",
       "      <td>12</td>\n",
       "      <td>15</td>\n",
       "      <td>15</td>\n",
       "      <td>15</td>\n",
       "      <td>16</td>\n",
       "      <td>15</td>\n",
       "      <td>31</td>\n",
       "      <td>26</td>\n",
       "      <td>25</td>\n",
       "      <td>32</td>\n",
       "      <td>64</td>\n",
       "      <td>59</td>\n",
       "      <td>67</td>\n",
       "    </tr>\n",
       "    <tr>\n",
       "      <th>Pig</th>\n",
       "      <td>13</td>\n",
       "      <td>12</td>\n",
       "      <td>4</td>\n",
       "      <td>5</td>\n",
       "      <td>4</td>\n",
       "      <td>0</td>\n",
       "      <td>6</td>\n",
       "      <td>7</td>\n",
       "      <td>13</td>\n",
       "      <td>13</td>\n",
       "      <td>13</td>\n",
       "      <td>14</td>\n",
       "      <td>13</td>\n",
       "      <td>30</td>\n",
       "      <td>25</td>\n",
       "      <td>26</td>\n",
       "      <td>31</td>\n",
       "      <td>64</td>\n",
       "      <td>59</td>\n",
       "      <td>67</td>\n",
       "    </tr>\n",
       "    <tr>\n",
       "      <th>Rabbit</th>\n",
       "      <td>12</td>\n",
       "      <td>11</td>\n",
       "      <td>6</td>\n",
       "      <td>11</td>\n",
       "      <td>10</td>\n",
       "      <td>6</td>\n",
       "      <td>0</td>\n",
       "      <td>7</td>\n",
       "      <td>10</td>\n",
       "      <td>8</td>\n",
       "      <td>11</td>\n",
       "      <td>11</td>\n",
       "      <td>11</td>\n",
       "      <td>25</td>\n",
       "      <td>26</td>\n",
       "      <td>23</td>\n",
       "      <td>29</td>\n",
       "      <td>62</td>\n",
       "      <td>59</td>\n",
       "      <td>67</td>\n",
       "    </tr>\n",
       "    <tr>\n",
       "      <th>Kangaroo</th>\n",
       "      <td>12</td>\n",
       "      <td>13</td>\n",
       "      <td>7</td>\n",
       "      <td>11</td>\n",
       "      <td>12</td>\n",
       "      <td>7</td>\n",
       "      <td>7</td>\n",
       "      <td>0</td>\n",
       "      <td>14</td>\n",
       "      <td>14</td>\n",
       "      <td>15</td>\n",
       "      <td>13</td>\n",
       "      <td>14</td>\n",
       "      <td>30</td>\n",
       "      <td>27</td>\n",
       "      <td>26</td>\n",
       "      <td>31</td>\n",
       "      <td>66</td>\n",
       "      <td>58</td>\n",
       "      <td>68</td>\n",
       "    </tr>\n",
       "    <tr>\n",
       "      <th>Pekin Duck</th>\n",
       "      <td>17</td>\n",
       "      <td>16</td>\n",
       "      <td>12</td>\n",
       "      <td>16</td>\n",
       "      <td>15</td>\n",
       "      <td>13</td>\n",
       "      <td>10</td>\n",
       "      <td>14</td>\n",
       "      <td>0</td>\n",
       "      <td>3</td>\n",
       "      <td>3</td>\n",
       "      <td>3</td>\n",
       "      <td>7</td>\n",
       "      <td>24</td>\n",
       "      <td>27</td>\n",
       "      <td>26</td>\n",
       "      <td>30</td>\n",
       "      <td>59</td>\n",
       "      <td>62</td>\n",
       "      <td>66</td>\n",
       "    </tr>\n",
       "    <tr>\n",
       "      <th>Pigeon</th>\n",
       "      <td>16</td>\n",
       "      <td>15</td>\n",
       "      <td>12</td>\n",
       "      <td>16</td>\n",
       "      <td>15</td>\n",
       "      <td>13</td>\n",
       "      <td>8</td>\n",
       "      <td>14</td>\n",
       "      <td>3</td>\n",
       "      <td>0</td>\n",
       "      <td>4</td>\n",
       "      <td>4</td>\n",
       "      <td>8</td>\n",
       "      <td>24</td>\n",
       "      <td>27</td>\n",
       "      <td>26</td>\n",
       "      <td>30</td>\n",
       "      <td>59</td>\n",
       "      <td>62</td>\n",
       "      <td>66</td>\n",
       "    </tr>\n",
       "    <tr>\n",
       "      <th>Chicken</th>\n",
       "      <td>18</td>\n",
       "      <td>17</td>\n",
       "      <td>14</td>\n",
       "      <td>16</td>\n",
       "      <td>15</td>\n",
       "      <td>13</td>\n",
       "      <td>11</td>\n",
       "      <td>15</td>\n",
       "      <td>3</td>\n",
       "      <td>4</td>\n",
       "      <td>0</td>\n",
       "      <td>2</td>\n",
       "      <td>8</td>\n",
       "      <td>28</td>\n",
       "      <td>26</td>\n",
       "      <td>26</td>\n",
       "      <td>31</td>\n",
       "      <td>61</td>\n",
       "      <td>62</td>\n",
       "      <td>66</td>\n",
       "    </tr>\n",
       "    <tr>\n",
       "      <th>King Penguin</th>\n",
       "      <td>18</td>\n",
       "      <td>17</td>\n",
       "      <td>14</td>\n",
       "      <td>17</td>\n",
       "      <td>16</td>\n",
       "      <td>14</td>\n",
       "      <td>11</td>\n",
       "      <td>13</td>\n",
       "      <td>3</td>\n",
       "      <td>4</td>\n",
       "      <td>2</td>\n",
       "      <td>0</td>\n",
       "      <td>8</td>\n",
       "      <td>28</td>\n",
       "      <td>27</td>\n",
       "      <td>28</td>\n",
       "      <td>30</td>\n",
       "      <td>62</td>\n",
       "      <td>61</td>\n",
       "      <td>65</td>\n",
       "    </tr>\n",
       "    <tr>\n",
       "      <th>Snapping Turtle</th>\n",
       "      <td>19</td>\n",
       "      <td>18</td>\n",
       "      <td>13</td>\n",
       "      <td>16</td>\n",
       "      <td>15</td>\n",
       "      <td>13</td>\n",
       "      <td>11</td>\n",
       "      <td>14</td>\n",
       "      <td>7</td>\n",
       "      <td>8</td>\n",
       "      <td>8</td>\n",
       "      <td>8</td>\n",
       "      <td>0</td>\n",
       "      <td>30</td>\n",
       "      <td>27</td>\n",
       "      <td>30</td>\n",
       "      <td>33</td>\n",
       "      <td>65</td>\n",
       "      <td>64</td>\n",
       "      <td>67</td>\n",
       "    </tr>\n",
       "    <tr>\n",
       "      <th>Rattlesnake</th>\n",
       "      <td>20</td>\n",
       "      <td>21</td>\n",
       "      <td>30</td>\n",
       "      <td>32</td>\n",
       "      <td>31</td>\n",
       "      <td>30</td>\n",
       "      <td>25</td>\n",
       "      <td>30</td>\n",
       "      <td>24</td>\n",
       "      <td>24</td>\n",
       "      <td>28</td>\n",
       "      <td>28</td>\n",
       "      <td>30</td>\n",
       "      <td>0</td>\n",
       "      <td>38</td>\n",
       "      <td>40</td>\n",
       "      <td>41</td>\n",
       "      <td>61</td>\n",
       "      <td>61</td>\n",
       "      <td>69</td>\n",
       "    </tr>\n",
       "    <tr>\n",
       "      <th>Tuna</th>\n",
       "      <td>31</td>\n",
       "      <td>32</td>\n",
       "      <td>29</td>\n",
       "      <td>27</td>\n",
       "      <td>26</td>\n",
       "      <td>25</td>\n",
       "      <td>26</td>\n",
       "      <td>27</td>\n",
       "      <td>27</td>\n",
       "      <td>27</td>\n",
       "      <td>26</td>\n",
       "      <td>27</td>\n",
       "      <td>27</td>\n",
       "      <td>38</td>\n",
       "      <td>0</td>\n",
       "      <td>34</td>\n",
       "      <td>41</td>\n",
       "      <td>72</td>\n",
       "      <td>66</td>\n",
       "      <td>69</td>\n",
       "    </tr>\n",
       "    <tr>\n",
       "      <th>Screwworm Fly</th>\n",
       "      <td>33</td>\n",
       "      <td>32</td>\n",
       "      <td>24</td>\n",
       "      <td>24</td>\n",
       "      <td>25</td>\n",
       "      <td>26</td>\n",
       "      <td>23</td>\n",
       "      <td>26</td>\n",
       "      <td>26</td>\n",
       "      <td>26</td>\n",
       "      <td>26</td>\n",
       "      <td>28</td>\n",
       "      <td>30</td>\n",
       "      <td>40</td>\n",
       "      <td>34</td>\n",
       "      <td>0</td>\n",
       "      <td>16</td>\n",
       "      <td>58</td>\n",
       "      <td>63</td>\n",
       "      <td>65</td>\n",
       "    </tr>\n",
       "    <tr>\n",
       "      <th>Moth</th>\n",
       "      <td>36</td>\n",
       "      <td>35</td>\n",
       "      <td>28</td>\n",
       "      <td>33</td>\n",
       "      <td>32</td>\n",
       "      <td>31</td>\n",
       "      <td>29</td>\n",
       "      <td>31</td>\n",
       "      <td>30</td>\n",
       "      <td>30</td>\n",
       "      <td>31</td>\n",
       "      <td>30</td>\n",
       "      <td>33</td>\n",
       "      <td>41</td>\n",
       "      <td>41</td>\n",
       "      <td>16</td>\n",
       "      <td>0</td>\n",
       "      <td>59</td>\n",
       "      <td>60</td>\n",
       "      <td>61</td>\n",
       "    </tr>\n",
       "    <tr>\n",
       "      <th>Bakers Mould</th>\n",
       "      <td>63</td>\n",
       "      <td>62</td>\n",
       "      <td>64</td>\n",
       "      <td>64</td>\n",
       "      <td>64</td>\n",
       "      <td>64</td>\n",
       "      <td>62</td>\n",
       "      <td>66</td>\n",
       "      <td>59</td>\n",
       "      <td>59</td>\n",
       "      <td>61</td>\n",
       "      <td>62</td>\n",
       "      <td>65</td>\n",
       "      <td>61</td>\n",
       "      <td>72</td>\n",
       "      <td>58</td>\n",
       "      <td>59</td>\n",
       "      <td>0</td>\n",
       "      <td>57</td>\n",
       "      <td>61</td>\n",
       "    </tr>\n",
       "    <tr>\n",
       "      <th>Bread Yeast</th>\n",
       "      <td>56</td>\n",
       "      <td>57</td>\n",
       "      <td>61</td>\n",
       "      <td>60</td>\n",
       "      <td>59</td>\n",
       "      <td>59</td>\n",
       "      <td>59</td>\n",
       "      <td>58</td>\n",
       "      <td>62</td>\n",
       "      <td>62</td>\n",
       "      <td>62</td>\n",
       "      <td>61</td>\n",
       "      <td>64</td>\n",
       "      <td>61</td>\n",
       "      <td>66</td>\n",
       "      <td>63</td>\n",
       "      <td>60</td>\n",
       "      <td>57</td>\n",
       "      <td>0</td>\n",
       "      <td>41</td>\n",
       "    </tr>\n",
       "    <tr>\n",
       "      <th>Skin Fungus</th>\n",
       "      <td>66</td>\n",
       "      <td>65</td>\n",
       "      <td>66</td>\n",
       "      <td>68</td>\n",
       "      <td>67</td>\n",
       "      <td>67</td>\n",
       "      <td>67</td>\n",
       "      <td>68</td>\n",
       "      <td>66</td>\n",
       "      <td>66</td>\n",
       "      <td>66</td>\n",
       "      <td>65</td>\n",
       "      <td>67</td>\n",
       "      <td>69</td>\n",
       "      <td>69</td>\n",
       "      <td>65</td>\n",
       "      <td>61</td>\n",
       "      <td>61</td>\n",
       "      <td>41</td>\n",
       "      <td>0</td>\n",
       "    </tr>\n",
       "  </tbody>\n",
       "</table>\n",
       "</div>"
      ],
      "text/plain": [
       "                 Man  Monkey  Dog  Horse  Donkey  Pig  Rabbit  Kangaroo  \\\n",
       "Man                0       1   13     17      16   13      12        12   \n",
       "Monkey             1       0   12     16      15   12      11        13   \n",
       "Dog               13      12    0     10       8    4       6         7   \n",
       "Horse             17      16   10      0       1    5      11        11   \n",
       "Donkey            16      15    8      1       0    4      10        12   \n",
       "Pig               13      12    4      5       4    0       6         7   \n",
       "Rabbit            12      11    6     11      10    6       0         7   \n",
       "Kangaroo          12      13    7     11      12    7       7         0   \n",
       "Pekin Duck        17      16   12     16      15   13      10        14   \n",
       "Pigeon            16      15   12     16      15   13       8        14   \n",
       "Chicken           18      17   14     16      15   13      11        15   \n",
       "King Penguin      18      17   14     17      16   14      11        13   \n",
       "Snapping Turtle   19      18   13     16      15   13      11        14   \n",
       "Rattlesnake       20      21   30     32      31   30      25        30   \n",
       "Tuna              31      32   29     27      26   25      26        27   \n",
       "Screwworm Fly     33      32   24     24      25   26      23        26   \n",
       "Moth              36      35   28     33      32   31      29        31   \n",
       "Bakers Mould      63      62   64     64      64   64      62        66   \n",
       "Bread Yeast       56      57   61     60      59   59      59        58   \n",
       "Skin Fungus       66      65   66     68      67   67      67        68   \n",
       "\n",
       "                 Pekin Duck  Pigeon  Chicken  King Penguin  Snapping Turtle  \\\n",
       "Man                      17      16       18            18               19   \n",
       "Monkey                   16      15       17            17               18   \n",
       "Dog                      12      12       14            14               13   \n",
       "Horse                    16      16       16            17               16   \n",
       "Donkey                   15      15       15            16               15   \n",
       "Pig                      13      13       13            14               13   \n",
       "Rabbit                   10       8       11            11               11   \n",
       "Kangaroo                 14      14       15            13               14   \n",
       "Pekin Duck                0       3        3             3                7   \n",
       "Pigeon                    3       0        4             4                8   \n",
       "Chicken                   3       4        0             2                8   \n",
       "King Penguin              3       4        2             0                8   \n",
       "Snapping Turtle           7       8        8             8                0   \n",
       "Rattlesnake              24      24       28            28               30   \n",
       "Tuna                     27      27       26            27               27   \n",
       "Screwworm Fly            26      26       26            28               30   \n",
       "Moth                     30      30       31            30               33   \n",
       "Bakers Mould             59      59       61            62               65   \n",
       "Bread Yeast              62      62       62            61               64   \n",
       "Skin Fungus              66      66       66            65               67   \n",
       "\n",
       "                 Rattlesnake  Tuna  Screwworm Fly  Moth  Bakers Mould  \\\n",
       "Man                       20    31             33    36            63   \n",
       "Monkey                    21    32             32    35            62   \n",
       "Dog                       30    29             24    28            64   \n",
       "Horse                     32    27             24    33            64   \n",
       "Donkey                    31    26             25    32            64   \n",
       "Pig                       30    25             26    31            64   \n",
       "Rabbit                    25    26             23    29            62   \n",
       "Kangaroo                  30    27             26    31            66   \n",
       "Pekin Duck                24    27             26    30            59   \n",
       "Pigeon                    24    27             26    30            59   \n",
       "Chicken                   28    26             26    31            61   \n",
       "King Penguin              28    27             28    30            62   \n",
       "Snapping Turtle           30    27             30    33            65   \n",
       "Rattlesnake                0    38             40    41            61   \n",
       "Tuna                      38     0             34    41            72   \n",
       "Screwworm Fly             40    34              0    16            58   \n",
       "Moth                      41    41             16     0            59   \n",
       "Bakers Mould              61    72             58    59             0   \n",
       "Bread Yeast               61    66             63    60            57   \n",
       "Skin Fungus               69    69             65    61            61   \n",
       "\n",
       "                 Bread Yeast  Skin Fungus  \n",
       "Man                       56           66  \n",
       "Monkey                    57           65  \n",
       "Dog                       61           66  \n",
       "Horse                     60           68  \n",
       "Donkey                    59           67  \n",
       "Pig                       59           67  \n",
       "Rabbit                    59           67  \n",
       "Kangaroo                  58           68  \n",
       "Pekin Duck                62           66  \n",
       "Pigeon                    62           66  \n",
       "Chicken                   62           66  \n",
       "King Penguin              61           65  \n",
       "Snapping Turtle           64           67  \n",
       "Rattlesnake               61           69  \n",
       "Tuna                      66           69  \n",
       "Screwworm Fly             63           65  \n",
       "Moth                      60           61  \n",
       "Bakers Mould              57           61  \n",
       "Bread Yeast                0           41  \n",
       "Skin Fungus               41            0  "
      ]
     },
     "execution_count": 4,
     "metadata": {},
     "output_type": "execute_result"
    }
   ],
   "source": [
    "mut"
   ]
  },
  {
   "cell_type": "code",
   "execution_count": 9,
   "metadata": {},
   "outputs": [],
   "source": [
    "# Q2\n",
    "from sklearn.manifold import MDS\n",
    "aftd = MDS(n_components=2, dissimilarity='precomputed',random_state=42)\n",
    "X = aftd.fit_transform(mut)"
   ]
  },
  {
   "cell_type": "code",
   "execution_count": 10,
   "metadata": {},
   "outputs": [
    {
     "data": {
      "text/plain": [
       "array([[ -2.509284  ,   7.69219157],\n",
       "       [ -2.63359048,   6.93679407],\n",
       "       [ -4.9732469 ,  -4.09637161],\n",
       "       [ -8.147609  ,  -9.45453691],\n",
       "       [ -8.01742616,  -8.49843008],\n",
       "       [ -7.22413733,  -5.34386983],\n",
       "       [ -7.23678845,  -0.95530256],\n",
       "       [ -3.4247927 ,  -2.33076883],\n",
       "       [-13.66156905,   2.80653749],\n",
       "       [-12.56649641,   3.2909578 ],\n",
       "       [-15.13209625,   1.34958741],\n",
       "       [-14.99908279,   2.2815455 ],\n",
       "       [-17.4840639 ,  -1.57254805],\n",
       "       [-11.06901506,  23.16078064],\n",
       "       [-22.4688647 , -20.95298285],\n",
       "       [  2.91354632, -22.42186872],\n",
       "       [ 12.29442759, -21.2636206 ],\n",
       "       [ 29.19989112,  46.59214479],\n",
       "       [ 50.80918437,  -9.78684983],\n",
       "       [ 56.33101376,  12.56661063]])"
      ]
     },
     "execution_count": 10,
     "metadata": {},
     "output_type": "execute_result"
    }
   ],
   "source": [
    "X"
   ]
  },
  {
   "cell_type": "code",
   "execution_count": 11,
   "metadata": {},
   "outputs": [
    {
     "data": {
      "image/png": "[encoded data removed]",
      "text/plain": [
       "<Figure size 432x288 with 1 Axes>"
      ]
     },
     "metadata": {
      "needs_background": "light"
     },
     "output_type": "display_data"
    }
   ],
   "source": [
    "# Q3\n",
    "# plt.scatter(*dist.T)\n",
    "plt.scatter(X[:,0], X[:,1])\n",
    "add_labels(X[:, 0], X[:, 1], mut.index)\n",
    "plt.show()"
   ]
  },
  {
   "cell_type": "code",
   "execution_count": 12,
   "metadata": {
    "scrolled": true
   },
   "outputs": [
    {
     "name": "stdout",
     "output_type": "stream",
     "text": [
      "(190,)\n"
     ]
    },
    {
     "data": {
      "image/png": "[encoded data removed]",
      "text/plain": [
       "<Figure size 432x288 with 1 Axes>"
      ]
     },
     "metadata": {
      "needs_background": "light"
     },
     "output_type": "display_data"
    }
   ],
   "source": [
    "# Q4\n",
    "aftd = MDS(n_components=2, dissimilarity='precomputed')\n",
    "dist = aftd.fit_transform(mut)\n",
    "plot_Shepard(aftd)\n",
    "plt.show()"
   ]
  },
  {
   "cell_type": "code",
   "execution_count": 13,
   "metadata": {},
   "outputs": [
    {
     "name": "stdout",
     "output_type": "stream",
     "text": [
      "(190,)\n"
     ]
    },
    {
     "data": {
      "image/png": "[encoded data removed]",
      "text/plain": [
       "<Figure size 432x288 with 1 Axes>"
      ]
     },
     "metadata": {
      "needs_background": "light"
     },
     "output_type": "display_data"
    }
   ],
   "source": [
    "aftd = MDS(n_components=3, dissimilarity='precomputed')\n",
    "dist = aftd.fit_transform(mut)\n",
    "plot_Shepard(aftd)\n",
    "plt.show()"
   ]
  },
  {
   "cell_type": "code",
   "execution_count": 14,
   "metadata": {},
   "outputs": [
    {
     "name": "stdout",
     "output_type": "stream",
     "text": [
      "(190,)\n"
     ]
    },
    {
     "data": {
      "image/png": "[encoded data removed]",
      "text/plain": [
       "<Figure size 432x288 with 1 Axes>"
      ]
     },
     "metadata": {
      "needs_background": "light"
     },
     "output_type": "display_data"
    }
   ],
   "source": [
    "aftd = MDS(n_components=4, dissimilarity='precomputed')\n",
    "dist = aftd.fit_transform(mut)\n",
    "plot_Shepard(aftd)\n",
    "plt.show()"
   ]
  },
  {
   "cell_type": "code",
   "execution_count": 15,
   "metadata": {},
   "outputs": [
    {
     "name": "stdout",
     "output_type": "stream",
     "text": [
      "(190,)\n"
     ]
    },
    {
     "data": {
      "image/png": "[encoded data removed]",
      "text/plain": [
       "<Figure size 432x288 with 1 Axes>"
      ]
     },
     "metadata": {
      "needs_background": "light"
     },
     "output_type": "display_data"
    }
   ],
   "source": [
    "aftd = MDS(n_components=5, dissimilarity='precomputed')\n",
    "dist = aftd.fit_transform(mut)\n",
    "plot_Shepard(aftd)\n",
    "plt.show()"
   ]
  },
  {
   "cell_type": "code",
   "execution_count": 17,
   "metadata": {},
   "outputs": [
    {
     "name": "stdout",
     "output_type": "stream",
     "text": [
      "(190,)\n"
     ]
    },
    {
     "data": {
      "text/plain": [
       "(array([ 1., 13., 12., 17., 16., 10., 16., 15.,  8.,  1., 13., 12.,  4.,\n",
       "         5.,  4., 12., 11.,  6., 11., 10.,  6., 12., 13.,  7., 11., 12.,\n",
       "         7.,  7., 17., 16., 12., 16., 15., 13., 10., 14., 16., 15., 12.,\n",
       "        16., 15., 13.,  8., 14.,  3., 18., 17., 14., 16., 15., 13., 11.,\n",
       "        15.,  3.,  4., 18., 17., 14., 17., 16., 14., 11., 13.,  3.,  4.,\n",
       "         2., 19., 18., 13., 16., 15., 13., 11., 14.,  7.,  8.,  8.,  8.,\n",
       "        20., 21., 30., 32., 31., 30., 25., 30., 24., 24., 28., 28., 30.,\n",
       "        31., 32., 29., 27., 26., 25., 26., 27., 27., 27., 26., 27., 27.,\n",
       "        38., 33., 32., 24., 24., 25., 26., 23., 26., 26., 26., 26., 28.,\n",
       "        30., 40., 34., 36., 35., 28., 33., 32., 31., 29., 31., 30., 30.,\n",
       "        31., 30., 33., 41., 41., 16., 63., 62., 64., 64., 64., 64., 62.,\n",
       "        66., 59., 59., 61., 62., 65., 61., 72., 58., 59., 56., 57., 61.,\n",
       "        60., 59., 59., 59., 58., 62., 62., 62., 61., 64., 61., 66., 63.,\n",
       "        60., 57., 66., 65., 66., 68., 67., 67., 67., 68., 66., 66., 66.,\n",
       "        65., 67., 69., 69., 65., 61., 61., 41.]),\n",
       " array([ 1.61417985, 13.18564763, 12.27584507, 16.87775358, 16.04316989,\n",
       "         8.01751978, 15.88575939, 15.02996488,  7.56943647,  1.36371722,\n",
       "        12.86327007, 12.10590495,  4.78549646,  4.96824736,  4.09152862,\n",
       "        11.62799778, 10.88102539,  5.0425016 , 10.85989778,  9.94740577,\n",
       "         6.31025579, 11.91929416, 11.77348563,  6.44980538, 10.43358162,\n",
       "         9.91138315,  6.23131717,  5.91325892, 16.65001296, 15.61723205,\n",
       "        12.38536726, 16.10853753, 15.0859773 , 12.9555889 ,  9.20620167,\n",
       "        14.62861211, 15.71043253, 14.77499249, 11.83249366, 16.35905976,\n",
       "        15.33459283, 12.74796098,  8.19070541, 13.59179962,  1.99813222,\n",
       "        18.43814146, 17.47727351, 13.37385705, 16.03405478, 15.05834379,\n",
       "        13.3241616 , 10.28274722, 15.26259317,  2.76204239,  4.11393561,\n",
       "        17.76636345, 16.89762647, 13.88470146, 16.70827894, 15.66055967,\n",
       "        13.66270818, 10.29631777, 15.17393015,  2.97686491,  3.83705894,\n",
       "         1.70884068, 18.35863067, 17.39430303, 13.47297404, 14.43994813,\n",
       "        13.6224745 , 12.44178863, 11.7688175 , 15.42919119,  7.06432293,\n",
       "         8.25090456,  6.2273222 ,  6.79886674, 19.94872409, 20.47503323,\n",
       "        28.83116181, 34.68405228, 33.54448076, 29.93423548, 25.08021693,\n",
       "        27.13603259, 25.07142545, 23.66439602, 27.01824391, 25.6935784 ,\n",
       "        29.520955  , 31.39722504, 31.66706106, 28.91658064, 27.27774428,\n",
       "        26.79216804, 25.95335908, 26.06606411, 24.92161986, 27.12070234,\n",
       "        26.92619801, 25.22067356, 24.58396883, 25.89240061, 39.00867927,\n",
       "        33.758161  , 32.94698409, 23.05335888, 24.63937557, 24.77216447,\n",
       "        24.95237894, 23.72120029, 25.45807781, 25.84506252, 25.70268678,\n",
       "        25.39703984, 26.34297865, 29.10810604, 42.98765486, 34.79811669,\n",
       "        36.00557708, 35.5851144 , 29.27101362, 32.98875019, 32.72192119,\n",
       "        31.49875274, 28.1889256 , 29.81641709, 30.57888522, 29.7672372 ,\n",
       "        30.66770408, 30.92825466, 35.83780204, 39.44762723, 37.58260219,\n",
       "        14.13075208, 62.95768474, 61.87236143, 62.58300696, 65.07255952,\n",
       "        64.38463815, 64.39044156, 61.91628111, 66.77323675, 58.62759669,\n",
       "        59.10659901, 59.76614076, 60.04571486, 63.65292874, 61.42483329,\n",
       "        78.42706511, 58.08769419, 56.36861197, 55.12526193, 55.13785733,\n",
       "        59.67188788, 58.77173249, 58.21585602, 58.70260848, 59.2721919 ,\n",
       "        59.78279843, 62.56313376, 62.44165912, 63.39206791, 63.01378776,\n",
       "        65.92098685, 60.38961934, 67.37325249, 61.37573078, 58.45212995,\n",
       "        57.73130676, 66.36306343, 66.09133887, 68.86617554, 66.85025102,\n",
       "        66.02228289, 66.86000194, 66.740353  , 69.04682825, 65.47396126,\n",
       "        66.03313815, 65.02871494, 64.56210153, 68.2061184 , 68.52614054,\n",
       "        64.63851417, 66.28732273, 64.14916394, 58.8129978 , 39.70349785]))"
      ]
     },
     "execution_count": 17,
     "metadata": {},
     "output_type": "execute_result"
    }
   ],
   "source": [
    "plot_Shepard(aftd, plot=False)"
   ]
  },
  {
   "cell_type": "code",
   "execution_count": 16,
   "metadata": {},
   "outputs": [
    {
     "name": "stdout",
     "output_type": "stream",
     "text": [
      "277.4400162679914\n",
      "(190,)\n",
      "277.02572160746485\n"
     ]
    }
   ],
   "source": [
    "# Q5\n",
    "print(aftd.stress_)\n",
    "diss, dist = plot_Shepard(aftd, plot=False)\n",
    "print(np.sum((diss - dist)**2))"
   ]
  },
  {
   "cell_type": "markdown",
   "metadata": {},
   "source": [
    "## Classification ascendante hiérarchique"
   ]
  },
  {
   "cell_type": "code",
   "execution_count": 20,
   "metadata": {},
   "outputs": [
    {
     "data": {
      "image/png": "[encoded data removed]",
      "text/plain": [
       "<Figure size 432x288 with 1 Axes>"
      ]
     },
     "metadata": {
      "needs_background": "light"
     },
     "output_type": "display_data"
    }
   ],
   "source": [
    "from sklearn.cluster import AgglomerativeClustering\n",
    "\n",
    "iris = sns.load_dataset(\"iris\")\n",
    "\n",
    "cls = AgglomerativeClustering(affinity=\"euclidean\", linkage=\"ward\", distance_threshold=0, n_clusters=None)\n",
    "\n",
    "cls.fit(iris.drop(columns=[\"species\"]))\n",
    "\n",
    "plot_dendrogram(cls)\n",
    "plt.show()"
   ]
  },
  {
   "cell_type": "code",
   "execution_count": 21,
   "metadata": {},
   "outputs": [
    {
     "data": {
      "image/png": "[encoded data removed]",
      "text/plain": [
       "<Figure size 432x288 with 1 Axes>"
      ]
     },
     "metadata": {
      "needs_background": "light"
     },
     "output_type": "display_data"
    }
   ],
   "source": [
    "# Q7\n",
    "mut = pd.read_csv(\"TP05_Classification_hierarchique/data/mutations2.csv\", index_col=0)\n",
    "\n",
    "model = AgglomerativeClustering(affinity=\"precomputed\", linkage=\"complete\", distance_threshold=0, n_clusters=None).fit(mut)\n",
    "\n",
    "plot_dendrogram(model, color_threshold=1, labels=mut.index, orientation=\"left\")\n",
    "plt.show()\n"
   ]
  },
  {
   "cell_type": "code",
   "execution_count": 30,
   "metadata": {},
   "outputs": [
    {
     "data": {
      "image/png": "[encoded data removed]",
      "text/plain": [
       "<Figure size 432x288 with 1 Axes>"
      ]
     },
     "metadata": {
      "needs_background": "light"
     },
     "output_type": "display_data"
    }
   ],
   "source": [
    "# Q8\n",
    "model = AgglomerativeClustering(affinity=\"precomputed\", linkage=\"complete\", n_clusters=2).fit(mut)\n",
    "\n",
    "labels = model.labels_\n",
    "\n",
    "aftd = MDS(n_components=2, dissimilarity=\"precomputed\")\n",
    "\n",
    "dist = aftd.fit_transform(mut)\n",
    "\n",
    "df = pd.DataFrame({\"x\": dist[:, 0], \"y\": dist[:, 1], \"étiquette\":labels})\n",
    "\n",
    "sns.scatterplot(x=\"x\", y=\"y\", hue=\"étiquette\", data=df)\n",
    "\n",
    "add_labels(dist[:, 0], dist[:, 1], mut.index)\n",
    "\n",
    "plt.show()\n"
   ]
  },
  {
   "cell_type": "markdown",
   "metadata": {},
   "source": [
    "## Inertie intra-classe et critère de Ward"
   ]
  },
  {
   "cell_type": "code",
   "execution_count": null,
   "metadata": {},
   "outputs": [],
   "source": [
    "# Q10\n",
    "def inertia(cluster, n):\n",
    "    nk = cluster.shape[0]\n",
    "    if nk == 1:\n",
    "        return 0\n",
    "    V = np.cov(cluster, rowvar=False, bias=True)\n",
    "    return nk * np.trace(V) / n\n",
    "\n",
    "import math\n",
    "import seaborn as sns\n",
    "iris = sns.load_dataset(\"iris\")\n",
    "iris0 = iris.drop(columns=\"species\")\n",
    "n = iris0.shape[0]\n",
    "\n",
    "assert math.isclose(inertia(iris0, n), 4.542470666666669)\n",
    "assert math.isclose(inertia(iris0.loc[iris.species == \"setosa\"], n), 0.10100666666666669)\n",
    "assert math.isclose(inertia(iris0.loc[iris.species == \"versicolor\"], n), 0.20410933333333345)\n",
    "assert math.isclose(inertia(iris0.loc[iris.species == \"virginica\"], n), 0.29019999999999996)\n"
   ]
  },
  {
   "cell_type": "code",
   "execution_count": null,
   "metadata": {},
   "outputs": [],
   "source": [
    "# Q10\n",
    "def intra_class(n_clusters, X):\n",
    "    cls = AgglomerativeClustering(affinity=\"euclidean\", linkage=\"ward\", n_clusters=n_clusters)\n",
    "    cls.fit(X)\n",
    "    n = X.shape[0]\n",
    "    return X.groupby(cls.labels_).apply(inertia, n).sum()\n",
    "\n",
    "intra_class_list = [intra_class(i, iris0) for i in np.arange(iris0.shape[0], 0, -1)]"
   ]
  },
  {
   "cell_type": "code",
   "execution_count": null,
   "metadata": {},
   "outputs": [],
   "source": [
    "# Q11\n",
    "cls = AgglomerativeClustering(\n",
    "affinity=\"euclidean\", linkage=\"ward\", distance_threshold=0, n_clusters=None)\n",
    "cls.fit(iris0)\n",
    "ward_list = cls.distances_**2/2"
   ]
  },
  {
   "cell_type": "code",
   "execution_count": null,
   "metadata": {},
   "outputs": [],
   "source": [
    "# Q12\n",
    "n = iris0.shape[0]\n",
    "np.allclose(np.diff(intra_class_list), ward_list / n)"
   ]
  },
  {
   "cell_type": "markdown",
   "metadata": {},
   "source": [
    "# Exercices théoriques\n",
    "##  AFTD des données Mutations"
   ]
  },
  {
   "cell_type": "code",
   "execution_count": null,
   "metadata": {},
   "outputs": [],
   "source": [
    "# Q13\n",
    "diss, dist = plot_Shepard(aftd, plot=False)\n",
    "stress = np.sum((diss - dist)**2)\n",
    "\n",
    "X = np.column_stack((diss, dist))\n",
    "n, p = X.shape\n",
    "feat_metric = np.eye(p)\n",
    "sample_metric = 1 / n * np.eye(n)\n",
    "\n",
    "feat_inner, inertia_point, inertia_axe = inertia_factory(feat_metric, sample_metric)\n",
    "inertia = inertia_axe(X, np.ones(2))\n",
    "print(stress, n * inertia, n * inertia / stress)\n",
    "n * inertia / stress"
   ]
  },
  {
   "cell_type": "code",
   "execution_count": null,
   "metadata": {},
   "outputs": [],
   "source": [
    "feat_metric = np.array([[2, -1], [-1, 1]])\n",
    "feat_inner, inertia_point, inertia_axe = inertia_factory(feat_metric, sample_metric)\n",
    "inertia = inertia_axe(X, np.ones(2))\n",
    "feat_inner(np.array([1, 1]), np.array([0, 1]))\n",
    "n * inertia / stress"
   ]
  },
  {
   "cell_type": "code",
   "execution_count": null,
   "metadata": {},
   "outputs": [],
   "source": []
  }
 ],
 "metadata": {
  "kernelspec": {
   "display_name": "Python 3",
   "language": "python",
   "name": "python3"
  },
  "language_info": {
   "codemirror_mode": {
    "name": "ipython",
    "version": 3
   },
   "file_extension": ".py",
   "mimetype": "text/x-python",
   "name": "python",
   "nbconvert_exporter": "python",
   "pygments_lexer": "ipython3",
   "version": "3.8.5"
  },
  "toc": {
   "base_numbering": 1,
   "nav_menu": {},
   "number_sections": true,
   "sideBar": true,
   "skip_h1_title": false,
   "title_cell": "Table of Contents",
   "title_sidebar": "Contents",
   "toc_cell": false,
   "toc_position": {},
   "toc_section_display": true,
   "toc_window_display": false
  }
 },
 "nbformat": 4,
 "nbformat_minor": 4
}
