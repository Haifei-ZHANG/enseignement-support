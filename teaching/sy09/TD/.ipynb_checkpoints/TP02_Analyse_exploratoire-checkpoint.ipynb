{
 "cells": [
  {
   "cell_type": "markdown",
   "metadata": {},
   "source": [
    "#  Travaux pratiques"
   ]
  },
  {
   "cell_type": "code",
   "execution_count": 1,
   "metadata": {},
   "outputs": [],
   "source": [
    "import seaborn as sns\n",
    "import matplotlib.pyplot as plt\n",
    "\n",
    "titanic = sns.load_dataset(\"titanic\")\n",
    "iris = sns.load_dataset(\"iris\")"
   ]
  },
  {
   "cell_type": "markdown",
   "metadata": {},
   "source": [
    "##  Visualisation univariée\n",
    "### Prédicteur quantitatif"
   ]
  },
  {
   "cell_type": "code",
   "execution_count": 2,
   "metadata": {},
   "outputs": [
    {
     "data": {
      "text/plain": [
       "<AxesSubplot:xlabel='age'>"
      ]
     },
     "execution_count": 2,
     "metadata": {},
     "output_type": "execute_result"
    },
    {
     "data": {
      "image/png": "[encoded data removed]",
      "text/plain": [
       "<Figure size 432x288 with 1 Axes>"
      ]
     },
     "metadata": {
      "needs_background": "light"
     },
     "output_type": "display_data"
    }
   ],
   "source": [
    "# Q1\n",
    "sns.boxplot(x=titanic[\"age\"])\n",
    "plt.show()"
   ]
  },
  {
   "cell_type": "code",
   "execution_count": null,
   "metadata": {},
   "outputs": [],
   "source": [
    "# Q2\n",
    "sns.histplot(x=titanic.age)\n",
    "plt.show()"
   ]
  },
  {
   "cell_type": "code",
   "execution_count": null,
   "metadata": {},
   "outputs": [],
   "source": [
    "sns.histplot(x=titanic.age, bins=10, kde=True)\n",
    "sns.rugplot(titanic.age)\n",
    "plt.show()"
   ]
  },
  {
   "cell_type": "markdown",
   "metadata": {},
   "source": [
    "### Prédicteur qualitatif"
   ]
  },
  {
   "cell_type": "code",
   "execution_count": null,
   "metadata": {},
   "outputs": [],
   "source": [
    "# Q3\n",
    "sns.countplot( data=titanic, x=\"class\")\n",
    "plt.show()"
   ]
  },
  {
   "cell_type": "code",
   "execution_count": null,
   "metadata": {},
   "outputs": [],
   "source": [
    "sns.countplot(x=titanic[\"class\"])\n",
    "plt.show()"
   ]
  },
  {
   "cell_type": "markdown",
   "metadata": {},
   "source": [
    "## Visualisation multivariée\n",
    "### Quantitatif vs quantitatif\n",
    "#### Diagramme de dispersion"
   ]
  },
  {
   "cell_type": "code",
   "execution_count": null,
   "metadata": {},
   "outputs": [],
   "source": [
    "# Q4\n",
    "sns.scatterplot(x=\"sepal_length\", y=\"sepal_width\", data=iris)\n",
    "plt.show()"
   ]
  },
  {
   "cell_type": "code",
   "execution_count": null,
   "metadata": {},
   "outputs": [],
   "source": [
    "# Q5\n",
    "sns.scatterplot(x=\"sepal_length\", y=\"sepal_width\", hue=\"species\", data=iris)\n",
    "# hue: Variable sémantique qui est mappée pour déterminer la couleur \n",
    "# des éléments du plot.\n",
    "plt.show()"
   ]
  },
  {
   "cell_type": "code",
   "execution_count": null,
   "metadata": {},
   "outputs": [],
   "source": [
    "# Q6\n",
    "sns.scatterplot(x=\"sepal_length\", y=\"sepal_width\", hue=\"species\",size=\"petal_length\", data=iris)\n",
    "plt.show()"
   ]
  },
  {
   "cell_type": "markdown",
   "metadata": {},
   "source": [
    "#### Diagramme de corrélation"
   ]
  },
  {
   "cell_type": "code",
   "execution_count": null,
   "metadata": {},
   "outputs": [],
   "source": [
    "# Q7\n",
    "corr = iris.corr()\n",
    "sns.heatmap(corr, square=True)\n",
    "plt.show()"
   ]
  },
  {
   "cell_type": "markdown",
   "metadata": {},
   "source": [
    "### Qualitatif vs quantitatif\n",
    "#### Diagramme en barres avec dispersion"
   ]
  },
  {
   "cell_type": "code",
   "execution_count": null,
   "metadata": {},
   "outputs": [],
   "source": [
    "# Q8\n",
    "sns.barplot(x=\"species\", y=\"sepal_length\", data=iris)\n",
    "plt.show()"
   ]
  },
  {
   "cell_type": "markdown",
   "metadata": {},
   "source": [
    "#### Boites à moustaches multiples"
   ]
  },
  {
   "cell_type": "code",
   "execution_count": null,
   "metadata": {},
   "outputs": [],
   "source": [
    "# Q9\n",
    "sns.boxplot(x=\"species\", y=\"sepal_length\", data=iris)\n",
    "plt.show()"
   ]
  },
  {
   "cell_type": "markdown",
   "metadata": {},
   "source": [
    "### Qualitatif vs qualitatif"
   ]
  },
  {
   "cell_type": "code",
   "execution_count": null,
   "metadata": {},
   "outputs": [],
   "source": [
    "# Q10\n",
    "sns.countplot(x=\"class\", hue=\"embark_town\", data=titanic)\n",
    "plt.show()"
   ]
  },
  {
   "cell_type": "code",
   "execution_count": null,
   "metadata": {},
   "outputs": [],
   "source": [
    "# Q11\n",
    "sns.countplot(x=\"class\", hue=\"who\", data=titanic)\n",
    "plt.show()"
   ]
  },
  {
   "cell_type": "markdown",
   "metadata": {},
   "source": [
    "### Représentation multiple"
   ]
  },
  {
   "cell_type": "code",
   "execution_count": null,
   "metadata": {},
   "outputs": [],
   "source": [
    "# Q12\n",
    "sns.displot(x=\"age\", col=\"class\", kind=\"hist\", data=titanic)\n",
    "plt.show()"
   ]
  },
  {
   "cell_type": "code",
   "execution_count": null,
   "metadata": {},
   "outputs": [],
   "source": [
    "# Q13\n",
    "sns.displot(x=\"age\", col=\"class\", row=\"who\", kind=\"hist\", data=titanic)\n",
    "plt.show()"
   ]
  },
  {
   "cell_type": "markdown",
   "metadata": {},
   "source": [
    "## Visualisation du jeu de données sy02-p2019.csv"
   ]
  },
  {
   "cell_type": "code",
   "execution_count": null,
   "metadata": {},
   "outputs": [],
   "source": [
    "# Q14\n",
    "import pandas as pd\n",
    "X = pd.read_csv(\"TP02_Analyse_exploratoire/data/sy02-p2019.csv\")\n",
    "X[\"Note médian\"].dtype"
   ]
  },
  {
   "cell_type": "code",
   "execution_count": null,
   "metadata": {},
   "outputs": [],
   "source": [
    "X = pd.read_csv(\"TP02_Analyse_exploratoire/data/sy02-p2019.csv\", na_values=\"ABS\")\n",
    "X[\"Note médian\"].dtype"
   ]
  },
  {
   "cell_type": "code",
   "execution_count": null,
   "metadata": {},
   "outputs": [],
   "source": [
    "# Q15\n",
    "sns.countplot(x=\"Branche\", hue=\"Semestre\", data=X)\n",
    "plt.show()"
   ]
  },
  {
   "cell_type": "code",
   "execution_count": null,
   "metadata": {},
   "outputs": [],
   "source": [
    "X[\"Note ECTS\"] = pd.Categorical(X[\"Note ECTS\"], ordered=True)\n",
    "sns.countplot(x=\"Branche\", hue=\"Note ECTS\", data=X)\n",
    "plt.show()"
   ]
  },
  {
   "cell_type": "code",
   "execution_count": null,
   "metadata": {},
   "outputs": [],
   "source": [
    "# Q16\n",
    "sns.histplot(X[\"Note médian\"])\n",
    "plt.show()"
   ]
  },
  {
   "cell_type": "code",
   "execution_count": null,
   "metadata": {},
   "outputs": [],
   "source": [
    "sns.histplot(X[\"Note final\"])\n",
    "plt.show()"
   ]
  },
  {
   "cell_type": "code",
   "execution_count": null,
   "metadata": {},
   "outputs": [],
   "source": [
    "sns.scatterplot(x=\"Note médian\", y=\"Note final\", data=X)\n",
    "plt.show()"
   ]
  },
  {
   "cell_type": "code",
   "execution_count": null,
   "metadata": {},
   "outputs": [],
   "source": [
    "sns.jointplot(x=\"Note médian\", y=\"Note final\", data=X)\n",
    "plt.show()"
   ]
  },
  {
   "cell_type": "code",
   "execution_count": null,
   "metadata": {},
   "outputs": [],
   "source": [
    "# Q17\n",
    "# print(X)\n",
    "X1 = X.melt(\n",
    "value_vars=[\"Note médian\", \"Note final\"], \n",
    "var_name=\"Type\",\n",
    "value_name=\"Note\"\n",
    ")\n",
    "print(X1)\n",
    "sns.boxplot(x=\"Type\", y=\"Note\", data=X1)\n",
    "plt.show()"
   ]
  },
  {
   "cell_type": "code",
   "execution_count": null,
   "metadata": {},
   "outputs": [],
   "source": [
    "# Q18\n",
    "X[\"Même correcteur\"] = X[\"Correcteur médian\"] == X[\"Correcteur final\"]\n",
    "X1 = X.melt(\n",
    "id_vars=[\"Même correcteur\"],\n",
    "value_vars=[\"Correcteur final\", \"Correcteur médian\"],\n",
    "var_name=\"Examen\",\n",
    "value_name=\"Correcteur\",\n",
    ")\n",
    "print(X1)\n",
    "sns.countplot(x=\"Correcteur\", hue=\"Même correcteur\", data=X1)\n",
    "plt.show()"
   ]
  },
  {
   "cell_type": "code",
   "execution_count": null,
   "metadata": {},
   "outputs": [],
   "source": [
    "# Q19\n",
    "import numpy as np\n",
    "X1 = X.rename(columns={\"Correcteur médian\": \"médian\", \"Correcteur final\": \"final\"})\n",
    "X1 = X1.melt(\n",
    "value_vars=[\"médian\", \"final\"],\n",
    "var_name=\"Examen\",\n",
    "value_name=\"Correcteur\",\n",
    ")\n",
    "print(X1)\n",
    "sns.countplot(x=\"Correcteur\", hue=\"Examen\", data=X1)\n",
    "plt.show()"
   ]
  },
  {
   "cell_type": "markdown",
   "metadata": {},
   "source": [
    "# Exercices"
   ]
  },
  {
   "cell_type": "code",
   "execution_count": null,
   "metadata": {},
   "outputs": [],
   "source": [
    "from sklearn.metrics import pairwise_distances as pedist\n",
    "\n",
    "def wgcomp(distXY, h):\n",
    "    wgts = np.exp(-distXY/(2*h))\n",
    "    return wgts\n",
    "\n",
    "def kdens(X, Y, h):\n",
    "    distXY = pedist(X,Y)\n",
    "    weights = wgcomp(distXY, h)\n",
    "    dens = np.mean(weights/np.sqrt(2*np.pi)/np.sqrt(h),axis=0)\n",
    "    return dens\n",
    "\n",
    "def loglike(h, X, Y):\n",
    "    dens = kdens(X, Y, h)\n",
    "    logl = np.sum(np.log(dens))\n",
    "    return logl"
   ]
  },
  {
   "cell_type": "code",
   "execution_count": null,
   "metadata": {},
   "outputs": [],
   "source": [
    "import numpy as np\n",
    "import scipy.stats as spst\n",
    "import matplotlib.pyplot as plt\n",
    "\n",
    "\n",
    "X = np.append(spst.norm.rvs(loc=0,scale=1, size=30),spst.norm.rvs(loc=5,scale=0.85, size=20))\n",
    "X.shape = (X.shape[0],1)\n",
    "Y = np.append(spst.norm.rvs(loc=0,scale=1, size=15),spst.norm.rvs(loc=5,scale=0.85, size=10))\n",
    "Y.shape = (Y.shape[0],1)\n",
    "distXY = pedist(X, Y)\n",
    "hcur = spst.uniform.rvs()*5\n",
    "hprv = np.inf\n",
    "hini = hcur\n",
    "\n",
    "while np.abs(hcur-hprv)>1e-10:\n",
    "    hprv = hcur\n",
    "    wgts = wgcomp(distXY, hcur)\n",
    "    hcur = np.sqrt(np.mean(np.sum(wgts*distXY**2,axis=0)/np.sum(wgts,axis=0)))\n",
    "\n",
    "# affichage\n",
    "hplt = np.linspace(start=0.01, stop=5, num=500)\n",
    "Z = np.linspace(start=-5, stop=10, num=1501)\n",
    "fig, axs = plt.subplots(1, 2)\n",
    "axs[0].plot(hplt, [loglike(h, X, Y) for h in hplt])\n",
    "axs[1].plot(Z, kdens(X, Z.reshape((Z.shape[0], 1)), hcur))"
   ]
  },
  {
   "cell_type": "code",
   "execution_count": null,
   "metadata": {},
   "outputs": [],
   "source": [
    "def sqdistloo(X):\n",
    "    X2 = np.linalg.norm(X, axis=1, keepdims=True)**2\n",
    "    distXXloo = np.tile(X2, (1,X.shape[0])) + np.tile(X2.T,(X.shape[0],1)) - 2*X@X.T\n",
    "    distXXloo = distXXloo[~np.eye(len(distXXloo), dtype=bool)].reshape(len(distXXloo), -1)\n",
    "    return distXXloo\n",
    "\n",
    "def kdensloo(X, h):\n",
    "    distXX = sqdistloo(X)\n",
    "    weights = wgcomp(distXX, h)\n",
    "    dens = np.mean(weights/np.sqrt(2*np.pi)/np.sqrt(h),axis=0)\n",
    "    return dens\n",
    "\n",
    "def loglikeloo(h, X):\n",
    "    dens = kdensloo(X, h)\n",
    "    logl = np.sum(np.log(dens))\n",
    "    return logl"
   ]
  },
  {
   "cell_type": "code",
   "execution_count": null,
   "metadata": {},
   "outputs": [],
   "source": [
    "distXXloo = sqdistloo(X)\n",
    "hcur_ = hini\n",
    "hprv = np.inf\n",
    "\n",
    "while np.abs(hcur_-hprv)>1e-10:\n",
    "    hprv = hcur_\n",
    "    wgts = wgcomp(distXXloo, hcur_)\n",
    "    hcur_ = np.mean(np.sum(distXXloo*wgts,axis=0)/np.sum(wgts,axis=0))\n",
    "\n",
    "fig, axs = plt.subplots(2, 2)\n",
    "axs[0,0].plot(hplt, [loglike(h, X, Y) for h in hplt])\n",
    "axs[0,1].plot(Z, kdens(X, Z.reshape((Z.shape[0],1)), hcur))\n",
    "axs[1,0].plot(hplt, [loglikeloo(h, X) for h in hplt])\n",
    "axs[1,1].plot(Z, kdens(X, Z.reshape((Z.shape[0],1)), hcur_))\n",
    "plt.show()"
   ]
  },
  {
   "cell_type": "code",
   "execution_count": null,
   "metadata": {},
   "outputs": [],
   "source": []
  }
 ],
 "metadata": {
  "kernelspec": {
   "display_name": "Python 3",
   "language": "python",
   "name": "python3"
  },
  "language_info": {
   "codemirror_mode": {
    "name": "ipython",
    "version": 3
   },
   "file_extension": ".py",
   "mimetype": "text/x-python",
   "name": "python",
   "nbconvert_exporter": "python",
   "pygments_lexer": "ipython3",
   "version": "3.8.5"
  },
  "toc": {
   "base_numbering": 1,
   "nav_menu": {},
   "number_sections": true,
   "sideBar": true,
   "skip_h1_title": false,
   "title_cell": "Table of Contents",
   "title_sidebar": "Contents",
   "toc_cell": false,
   "toc_position": {
    "height": "calc(100% - 180px)",
    "left": "10px",
    "top": "150px",
    "width": "339px"
   },
   "toc_section_display": true,
   "toc_window_display": true
  }
 },
 "nbformat": 4,
 "nbformat_minor": 4
}
